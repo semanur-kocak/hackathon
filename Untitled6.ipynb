{
  "nbformat": 4,
  "nbformat_minor": 0,
  "metadata": {
    "colab": {
      "provenance": [],
      "authorship_tag": "ABX9TyP8Ndp0nIIIRhd/60LpWDq/",
      "include_colab_link": true
    },
    "kernelspec": {
      "name": "python3",
      "display_name": "Python 3"
    },
    "language_info": {
      "name": "python"
    }
  },
  "cells": [
    {
      "cell_type": "markdown",
      "metadata": {
        "id": "view-in-github",
        "colab_type": "text"
      },
      "source": [
        "<a href=\"https://colab.research.google.com/github/semanur-kocak/hackathon/blob/main/Untitled6.ipynb\" target=\"_parent\"><img src=\"https://colab.research.google.com/assets/colab-badge.svg\" alt=\"Open In Colab\"/></a>"
      ]
    },
    {
      "cell_type": "code",
      "execution_count": 10,
      "metadata": {
        "id": "ICETB0qiDz2x"
      },
      "outputs": [],
      "source": [
        "import xml.etree.ElementTree as ET\n",
        "\n",
        "root = ET.Element(\"aekler\")\n",
        "\n",
        "aekler = [\n",
        "    {\n",
        "        \"baslik\": \"Python ile Programlamaya Giriş\",\n",
        "        \"anahtarKelime\": \"Python, Programlama, Temel\",\n",
        "        \"ozetBilgi\": \"Bu kaynak, Python programlama dilinin temellerini öğretmektedir.\",\n",
        "        \"olusturanKisiKurulus\": \"Ahmet Yılmaz\",\n",
        "        \"acikLisans\": \"CC BY 4.0\",\n",
        "        \"dil\": \"Türkçe\",\n",
        "        \"kaynakUrl\": \"https://www.example.com/python-programlama\"\n",
        "    },\n",
        "    {\n",
        "        \"baslik\": \"Veri Bilimi Temelleri\",\n",
        "        \"anahtarKelime\": \"Veri Bilimi, Python, İstatistik\",\n",
        "        \"ozetBilgi\": \"Bu kaynak, veri biliminin temellerine giriş yapmaktadır.\",\n",
        "        \"olusturanKisiKurulus\": \"Mehmet Kaya\",\n",
        "        \"acikLisans\": \"CC BY-SA 4.0\",\n",
        "        \"dil\": \"Türkçe\",\n",
        "        \"kaynakUrl\": \"https://www.example.com/veri-bilimi\"\n",
        "    },\n",
        "    {\n",
        "        \"baslik\": \"Makine Öğrenmesi\",\n",
        "        \"anahtarKelime\": \"Makine Öğrenmesi, Yapay Zeka, Algoritmalar\",\n",
        "        \"ozetBilgi\": \"Makine öğrenmesi algoritmalarını öğreten bir kaynaktır.\",\n",
        "        \"olusturanKisiKurulus\": \"Elif Demir\",\n",
        "        \"acikLisans\": \"CC BY-NC 4.0\",\n",
        "        \"dil\": \"Türkçe\",\n",
        "        \"kaynakUrl\": \"https://www.example.com/makine-ogrenmesi\"\n",
        "    }\n",
        "]\n",
        "\n",
        "tree = ET.ElementTree(root)\n",
        "\n",
        "tree.write(\"aek_metadata.xml\", encoding=\"utf-8\", xml_declaration=True)\n"
      ]
    },
    {
      "cell_type": "code",
      "source": [
        "import xml.etree.ElementTree as ET\n",
        "\n",
        "tree = ET.parse('aek_metadata.xml')\n",
        "root = tree.getroot()\n",
        "\n",
        "def listele_aekler():\n",
        "    print(\"Açık Eğitim Kaynakları (AEK) Listesi:\")\n",
        "    for aek in root.findall(\"aek\"):\n",
        "        baslik = aek.find(\"baslik\").text\n",
        "        anahtar_kelime = aek.find(\"anahtarKelime\").text\n",
        "        ozet_bilgi = aek.find(\"ozetBilgi\").text\n",
        "        olusturan = aek.find(\"olusturanKisiKurulus\").text\n",
        "        acik_lisans = aek.find(\"acikLisans\").text\n",
        "        dil = aek.find(\"dil\").text\n",
        "        kaynak_url = aek.find(\"kaynakUrl\").text\n",
        "\n",
        "        print(f\"\\nBaşlık: {baslik}\")\n",
        "        print(f\"Anahtar Kelimeler: {anahtar_kelime}\")\n",
        "        print(f\"Özet: {ozet_bilgi}\")\n",
        "        print(f\"Oluşturan Kişi/Kuruluş: {olusturan}\")\n",
        "        print(f\"Açık Lisans: {acik_lisans}\")\n",
        "        print(f\"Dil: {dil}\")\n",
        "        print(f\"Kaynak URL: {kaynak_url}\")\n",
        "\n",
        "listele_aekler()\n",
        "\n",
        "def ara_aekler(aranan_kelime):\n",
        "    print(f\"\\n'{aranan_kelime}' içeren AEK'ler:\")\n",
        "    for aek in root.findall(\"aek\"):\n",
        "        baslik = aek.find(\"baslik\").text\n",
        "        anahtar_kelime = aek.find(\"anahtarKelime\").text\n",
        "        if aranan_kelime.lower() in baslik.lower() or aranan_kelime.lower() in anahtar_kelime.lower():\n",
        "            ozet_bilgi = aek.find(\"ozetBilgi\").text\n",
        "            olusturan = aek.find(\"olusturanKisiKurulus\").text\n",
        "            acik_lisans = aek.find(\"acikLisans\").text\n",
        "            dil = aek.find(\"dil\").text\n",
        "            kaynak_url = aek.find(\"kaynakUrl\").text\n",
        "\n",
        "            print(f\"\\nBaşlık: {baslik}\")\n",
        "            print(f\"Anahtar Kelimeler: {anahtar_kelime}\")\n",
        "            print(f\"Özet: {ozet_bilgi}\")\n",
        "            print(f\"Oluşturan Kişi/Kuruluş: {olusturan}\")\n",
        "            print(f\"Açık Lisans: {acik_lisans}\")\n",
        "            print(f\"Dil: {dil}\")\n",
        "            print(f\"Kaynak URL: {kaynak_url}\")\n",
        "\n",
        "aranan_kelime = input(\"Aramak istediğiniz anahtar kelime veya başlık girin: \")\n",
        "ara_aekler(aranan_kelime)"
      ],
      "metadata": {
        "colab": {
          "base_uri": "https://localhost:8080/"
        },
        "id": "ldualbUBD7Ys",
        "outputId": "b2dfd357-01f7-4f98-c348-b9fb7da8863d"
      },
      "execution_count": 14,
      "outputs": [
        {
          "output_type": "stream",
          "name": "stdout",
          "text": [
            "Açık Eğitim Kaynakları (AEK) Listesi:\n",
            "Aramak istediğiniz anahtar kelime veya başlık girin: Ahmet Yılmaz\n",
            "\n",
            "'Ahmet Yılmaz' içeren AEK'ler:\n"
          ]
        }
      ]
    }
  ]
}